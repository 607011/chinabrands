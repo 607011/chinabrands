{
 "cells": [
  {
   "cell_type": "code",
   "execution_count": 137,
   "metadata": {},
   "outputs": [
    {
     "name": "stdout",
     "output_type": "stream",
     "text": [
      "himous eaod yikenke fowceva soee mocowmo erod ooyiplus mroolohealth benimilo yieabest wayfylife ruiyo tayo easoke mrookeyi anwaylo ancowler lofypor ruilorui "
     ]
    }
   ],
   "source": [
    "import random\n",
    "\n",
    "def create_random_brand(num_syllables: int, dups_allowed: bool = True) -> str:\n",
    "  syllables = ['cow', 'be', 'yo', 'ben', 'ki', 'mroo', 'best', 'ee', 'fow', 'an', 'qi', 'er', 'od', 'hi', 'lo', 'ke', 'lo', 'yi', 'rui', 'xue', 'vi', 'ta', 'vita', 'ceva', 'pro', 'ler', 'way', 'oo', 'por', 'ken', 'beni', 'beno', 'rap', 'plus', 'ea', 'so', 'ger', 'cos', 'play', 'life', 'health', 'mi', 'ke', 'fy', 'phy', 'us', 'mo', 'bi', 'tor']\n",
    "  result = ''\n",
    "  for _ in range(num_syllables):\n",
    "    if len(syllables) == 0:\n",
    "      break\n",
    "    s = random.choice(syllables)\n",
    "    if not dups_allowed:\n",
    "      syllables.remove(s)\n",
    "    result += s\n",
    "  return result\n",
    "\n",
    "for _ in range(20):\n",
    "  num_syllables = random.randint(2, 3)\n",
    "  dups_allowed = random.choice([True, False])  # bool(random.getrandbits(1))\n",
    "  brand = create_random_brand(num_syllables, dups_allowed)\n",
    "  print(brand, end=' ')\n"
   ]
  },
  {
   "cell_type": "code",
   "execution_count": 140,
   "metadata": {},
   "outputs": [
    {
     "name": "stdout",
     "output_type": "stream",
     "text": [
      "oopluspor fowlerbi cowsophy healthlifeta rapoobi lervi ersoxue fowhealthger probe lolife bibe ruimiken ookeler yiruiqi vitahi lerod cevahealthtor plusbeni usplay kephy "
     ]
    }
   ],
   "source": [
    "import random\n",
    "\n",
    "syllables = ['cow', 'be', 'yo', 'ben', 'ki', 'mroo', 'best', 'ee', 'fow', 'an', 'qi', 'er', 'od', 'hi', 'lo', 'ke', 'lo', 'yi', 'rui', 'xue', 'vi', 'ta', 'vita', 'ceva', 'pro', 'ler', 'way', 'oo', 'por', 'ken', 'beni', 'beno', 'rap', 'plus', 'ea', 'so', 'ger', 'cos', 'play', 'life', 'health', 'mi', 'ke', 'fy', 'phy', 'us', 'mo', 'bi', 'tor']\n",
    "for _ in range(20):\n",
    "  num_syllables = random.randint(2, 3)\n",
    "  samples = random.sample(syllables, num_syllables)\n",
    "  brand = ''.join(samples)\n",
    "  print(brand, end=' ')\n"
   ]
  },
  {
   "cell_type": "code",
   "execution_count": 141,
   "metadata": {},
   "outputs": [
    {
     "name": "stdout",
     "output_type": "stream",
     "text": [
      "cowfow healthfowcow cowcowfow fowmo cowfowcow kenler cowcowfow cowcowfow mike fowcow fowcowfow cowfow fowfowcow fowger rapcowcow cowfowke fowrapcow cowcowfow cowfowee fowfowyo "
     ]
    }
   ],
   "source": [
    "import random\n",
    "\n",
    "syllables = ['cow', 'be', 'yo', 'ben', 'ki', 'mroo', 'best', 'ee', 'fow', 'an', 'qi', 'er', 'od', 'hi', 'lo', 'ke', 'lo', 'yi', 'rui', 'xue', 'vi', 'ta', 'vita', 'ceva', 'pro', 'ler', 'way', 'oo', 'por', 'ken', 'beni', 'beno', 'rap', 'plus', 'ea', 'so', 'ger', 'cos', 'play', 'life', 'health', 'mi', 'ke', 'fy', 'phy', 'us', 'mo', 'bi', 'tor']\n",
    "weights = [1] * len(syllables)\n",
    "weights[syllables.index('cow')] = 100\n",
    "weights[syllables.index('fow')] = 100\n",
    "\n",
    "for _ in range(20):\n",
    "  num_syllables = random.randint(2, 3)\n",
    "  choices = random.choices(syllables, weights=weights, k=num_syllables)\n",
    "  brand = ''.join(choices)\n",
    "  print(brand, end=' ')"
   ]
  }
 ],
 "metadata": {
  "interpreter": {
   "hash": "aee8b7b246df8f9039afb4144a1f6fd8d2ca17a180786b69acc140d282b71a49"
  },
  "kernelspec": {
   "display_name": "Python 3.9.7 64-bit",
   "name": "python3"
  },
  "language_info": {
   "codemirror_mode": {
    "name": "ipython",
    "version": 3
   },
   "file_extension": ".py",
   "mimetype": "text/x-python",
   "name": "python",
   "nbconvert_exporter": "python",
   "pygments_lexer": "ipython3",
   "version": "3.9.7"
  },
  "orig_nbformat": 4
 },
 "nbformat": 4,
 "nbformat_minor": 2
}
